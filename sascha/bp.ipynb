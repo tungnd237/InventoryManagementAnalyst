{
 "cells": [
  {
   "attachments": {},
   "cell_type": "markdown",
   "metadata": {},
   "source": [
    "# Boilerplate Preprocessing Codes (for EDA)\n",
    "\n",
    "- DROPPED: less important columns\n",
    "- ENCODED: categorical columns\n",
    "- STANDARDIZED: all columns by StandardScaler"
   ]
  },
  {
   "cell_type": "code",
   "execution_count": null,
   "metadata": {},
   "outputs": [],
   "source": [
    "import pandas as pd\n",
    "import numpy as np\n",
    "import matplotlib.pyplot as plt\n",
    "import seaborn as sns\n",
    "import statsmodels.api as sm\n",
    "\n",
    "import scipy.stats as stats\n",
    "\n",
    "from sklearn.decomposition import PCA\n",
    "from sklearn.preprocessing import OneHotEncoder, StandardScaler"
   ]
  },
  {
   "cell_type": "code",
   "execution_count": null,
   "metadata": {},
   "outputs": [],
   "source": [
    "# IMPORT: Tableau Superstore dataset\n",
    "\n",
    "df = pd.read_csv(\"../data/superstore_sample.csv\")"
   ]
  },
  {
   "cell_type": "code",
   "execution_count": null,
   "metadata": {},
   "outputs": [],
   "source": [
    "# CHANGE: to natural format: non-numeric types\n",
    "\n",
    "# Type Change: 2 columns -> str\n",
    "df['Customer ID'] = df['Customer ID'].astype(\"string\")\n",
    "df['Product ID'] = df['Product ID'].astype(\"string\")\n",
    "\n",
    "# Type Change: 5 columns -> category \n",
    "df['Ship Mode'] = df['Ship Mode'].astype(\"category\")\n",
    "df['Segment'] = df['Segment'].astype(\"category\")\n",
    "df['Region'] = df['Region'].astype(\"category\")\n",
    "df['Category'] = df['Category'].astype(\"category\")\n",
    "df['Sub-Category'] = df['Sub-Category'].astype(\"category\")\n",
    "\n",
    "# Type Change: 2 columns -> datetime\n",
    "df['Order Date'] = pd.to_datetime(df['Order Date'])\n",
    "df['Ship Date'] = pd.to_datetime(df['Ship Date'])"
   ]
  },
  {
   "cell_type": "code",
   "execution_count": null,
   "metadata": {},
   "outputs": [],
   "source": [
    "# DEFINE: column types\n",
    "\n",
    "id_columns = [\n",
    "    \"Customer ID\", \"Product ID\",\n",
    "]\n",
    "\n",
    "# Potential target variables\n",
    "numeric_columns = [\n",
    "    \"Sales\", \"Quantity\", \"Discount\", \"Profit\"\n",
    "]\n",
    "\n",
    "category_columns = [\n",
    "    \"Ship Mode\", #4\n",
    "    \"Segment\", #3\n",
    "    \"Region\", #4\n",
    "    \"Category\", #3\n",
    "    \"Sub-Category\" #17\n",
    "]\n",
    "\n",
    "void_columns = [\n",
    "   \"Row ID\", \"Order ID\", \"Country\"\n",
    "]\n",
    "\n",
    "# Customer Name <-> Customer ID\n",
    "# Product Name <-> Product ID\n",
    "# [City, State, Postal Code] <-> Region\n",
    "redundant_columns = [\n",
    "    \"Customer Name\", \"Product Name\", \n",
    "    \"City\", \"State\", \"Postal Code\"\n",
    "]"
   ]
  },
  {
   "cell_type": "code",
   "execution_count": null,
   "metadata": {},
   "outputs": [],
   "source": [
    "# ASSIGN: numeric id instead of string id\n",
    "# Customer Id -> C_id\n",
    "# Product Id -> P_id\n",
    "\n",
    "for i in id_columns:\n",
    "    df[i[0]+'_id'] = df.groupby(i).ngroup()"
   ]
  },
  {
   "cell_type": "code",
   "execution_count": null,
   "metadata": {},
   "outputs": [],
   "source": [
    "# DROP: 10 Columns = id + void + redundant\n",
    "dropping_columns = id_columns + void_columns + redundant_columns\n",
    "\n",
    "df_f = df.drop(columns=dropping_columns)"
   ]
  },
  {
   "cell_type": "code",
   "execution_count": null,
   "metadata": {},
   "outputs": [],
   "source": [
    "# PROFILE: exploratory analysis & save to HTML - uncomment when needed\n",
    "\n",
    "# import ydata_profiling as yp\n",
    "\n",
    "# report_super_f = df_f.profile_report()\n",
    "# report_super_f.to_file(output_file=\"0409_super_f_report.html\")"
   ]
  },
  {
   "cell_type": "code",
   "execution_count": null,
   "metadata": {},
   "outputs": [],
   "source": [
    "# ENCODE: One-Hot Encode 5 categorical variables\n",
    "# \"Ship Mode\"#4 \"Segment\"#3 \"Region\"#4 \"Category\"#3 \"Sub-Category\"#17\n",
    "\n",
    "for i in category_columns:\n",
    "    ohe = OneHotEncoder()\n",
    "    ohe_df = pd.DataFrame(\n",
    "        ohe.fit_transform(df_f[[i]]).toarray())\n",
    "    # add suffix to column names in ohe_df\n",
    "    ohe_df.columns = ohe_df.columns.astype(str)\n",
    "    ohe_df = ohe_df.add_suffix(i)\n",
    "    # define new dataframe to distinguish before-and-after encoding\n",
    "    df_f = df_f.join(ohe_df)"
   ]
  },
  {
   "cell_type": "code",
   "execution_count": null,
   "metadata": {},
   "outputs": [],
   "source": [
    "# DROP & Standardize: categorical variables\n",
    "\n",
    "# will have to check how much data deviates from Gaussian\n",
    "# for now, assume it fares ok \n",
    "# = leave it as window for improvement\n",
    "scaler = StandardScaler()\n",
    "\n",
    "# Save standardized dataframe in a new variable,\n",
    "# for preliminary model training and testing\n",
    "scaled_df_f = scaler.fit_transform(\n",
    "    df_f.drop(category_columns, axis=1))"
   ]
  }
 ],
 "metadata": {
  "kernelspec": {
   "display_name": "base",
   "language": "python",
   "name": "python3"
  },
  "language_info": {
   "name": "python",
   "version": "3.9.16"
  },
  "orig_nbformat": 4
 },
 "nbformat": 4,
 "nbformat_minor": 2
}
